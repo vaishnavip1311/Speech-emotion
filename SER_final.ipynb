{
 "cells": [
  {
   "cell_type": "code",
   "execution_count": 2,
   "metadata": {
    "id": "dNKE8AkvSjUQ"
   },
   "outputs": [],
   "source": [
    "import numpy as np\n",
    "import pandas as pd\n",
    "import os\n",
    "import librosa\n",
    "import librosa.display\n",
    "import IPython\n",
    "from IPython.display import Audio\n",
    "from IPython.display import Image\n",
    "import matplotlib.pyplot as plt\n",
    "import torch\n",
    "import torch.nn as nn"
   ]
  },
  {
   "cell_type": "code",
   "execution_count": 3,
   "metadata": {
    "id": "9szVB9T9TPGG"
   },
   "outputs": [],
   "source": [
    "SAMPLE_RATE = 48000\n",
    "file_path = \"C:\\\\Users\\\\Vaishnavi patil\\\\AppData\\\\Local\\\\Temp\\\\Temp1_SER_-master.zip\\\\SER_-master\\\\notebooks\\\\run_data\\\\03-01-03-02-01-02-01.wav\"\n",
    "mel_spectrograms = []\n",
    "signals = []\n",
    "audio, sample_rate = librosa.load(file_path, duration=3, offset=0.5, sr=SAMPLE_RATE)\n",
    "signal = np.zeros((int(SAMPLE_RATE*3,)))\n",
    "signal[:len(audio)] = audio\n",
    "signals.append(signal)\n",
    "signals = np.stack(signals,axis=0)\n",
    "X_train = signals"
   ]
  },
  {
   "cell_type": "code",
   "execution_count": 1,
   "metadata": {
    "colab": {
     "base_uri": "https://localhost:8080/",
     "height": 466
    },
    "id": "a5c7MyPOYrd-",
    "outputId": "26849f76-bf52-4fbc-9785-5c02d2da774c"
   },
   "outputs": [
    {
     "ename": "NameError",
     "evalue": "name 'librosa' is not defined",
     "output_type": "error",
     "traceback": [
      "\u001b[1;31m---------------------------------------------------------------------------\u001b[0m",
      "\u001b[1;31mNameError\u001b[0m                                 Traceback (most recent call last)",
      "Cell \u001b[1;32mIn[1], line 15\u001b[0m\n\u001b[0;32m     12\u001b[0m     \u001b[38;5;28;01mreturn\u001b[39;00m mel_spec_db\n\u001b[0;32m     14\u001b[0m \u001b[38;5;66;03m# test function\u001b[39;00m\n\u001b[1;32m---> 15\u001b[0m audio, sample_rate \u001b[38;5;241m=\u001b[39m librosa\u001b[38;5;241m.\u001b[39mload(file_path, duration\u001b[38;5;241m=\u001b[39m\u001b[38;5;241m3\u001b[39m, offset\u001b[38;5;241m=\u001b[39m\u001b[38;5;241m0.5\u001b[39m,sr\u001b[38;5;241m=\u001b[39mSAMPLE_RATE)\n\u001b[0;32m     16\u001b[0m signal \u001b[38;5;241m=\u001b[39m np\u001b[38;5;241m.\u001b[39mzeros((\u001b[38;5;28mint\u001b[39m(SAMPLE_RATE\u001b[38;5;241m*\u001b[39m\u001b[38;5;241m3\u001b[39m,)))\n\u001b[0;32m     17\u001b[0m signal[:\u001b[38;5;28mlen\u001b[39m(audio)] \u001b[38;5;241m=\u001b[39m audio\n",
      "\u001b[1;31mNameError\u001b[0m: name 'librosa' is not defined"
     ]
    }
   ],
   "source": [
    "def getMELspectrogram(audio, sample_rate):\n",
    "    mel_spec = librosa.feature.melspectrogram(y=audio,\n",
    "                                              sr=sample_rate,\n",
    "                                              n_fft=1024,\n",
    "                                              win_length = 512,\n",
    "                                              window='hamming',\n",
    "                                              hop_length = 256,\n",
    "                                              n_mels=128,\n",
    "                                              fmax=sample_rate/2\n",
    "                                             )\n",
    "    mel_spec_db = librosa.power_to_db(mel_spec, ref=np.max)\n",
    "    return mel_spec_db\n",
    "\n",
    "# test function\n",
    "audio, sample_rate = librosa.load(file_path, duration=3, offset=0.5,sr=SAMPLE_RATE)\n",
    "signal = np.zeros((int(SAMPLE_RATE*3,)))\n",
    "signal[:len(audio)] = audio\n",
    "mel_spectrogram = getMELspectrogram(signal, SAMPLE_RATE)\n",
    "librosa.display.specshow(mel_spectrogram, y_axis='mel', x_axis='time')\n",
    "print('MEL spectrogram shape: ',mel_spectrogram.shape)"
   ]
  },
  {
   "cell_type": "code",
   "execution_count": null,
   "metadata": {
    "id": "AUVbSh8wZzaB"
   },
   "outputs": [],
   "source": [
    "def splitIntoChunks(mel_spec,win_size,stride):\n",
    "    t = mel_spec.shape[1]\n",
    "    num_of_chunks = int(t/stride)\n",
    "    chunks = []\n",
    "    for i in range(num_of_chunks):\n",
    "        chunk = mel_spec[:,i*stride:i*stride+win_size]\n",
    "        if chunk.shape[1] == win_size:\n",
    "            chunks.append(chunk)\n",
    "    return np.stack(chunks,axis=0)"
   ]
  },
  {
   "cell_type": "code",
   "execution_count": null,
   "metadata": {
    "colab": {
     "base_uri": "https://localhost:8080/"
    },
    "id": "-cE82OrTrDh5",
    "outputId": "d15d9edd-5a45-487a-e378-0082a1387832"
   },
   "outputs": [
    {
     "name": "stdout",
     "output_type": "stream",
     "text": [
      "Calculatin mel spectrograms for train set\n",
      "\r",
      " Processed 0/1 files"
     ]
    }
   ],
   "source": [
    "mel_train = []\n",
    "print(\"Calculatin mel spectrograms for train set\")\n",
    "for i in range(X_train.shape[0]):\n",
    "    mel_spectrogram = getMELspectrogram(X_train[i,:], sample_rate=SAMPLE_RATE)\n",
    "    mel_train.append(mel_spectrogram)\n",
    "    print(\"\\r Processed {}/{} files\".format(i,X_train.shape[0]),end='')"
   ]
  },
  {
   "cell_type": "code",
   "execution_count": null,
   "metadata": {
    "id": "pTcnXoFSsLVB"
   },
   "outputs": [],
   "source": [
    "mel_train_chunked = []\n",
    "for mel_spec in mel_train:\n",
    "    chunks = splitIntoChunks(mel_spec, win_size=128,stride=64)\n",
    "    mel_train_chunked.append(chunks)"
   ]
  },
  {
   "cell_type": "code",
   "execution_count": null,
   "metadata": {
    "colab": {
     "base_uri": "https://localhost:8080/"
    },
    "id": "Ft3I8SUosjHY",
    "outputId": "3596df9d-3312-4e95-d220-1333ec146976"
   },
   "outputs": [
    {
     "name": "stdout",
     "output_type": "stream",
     "text": [
      "Shape of X_train:  (1, 7, 1, 128, 128)\n"
     ]
    }
   ],
   "source": [
    "X_train = np.stack(mel_train_chunked,axis=0)\n",
    "X_train = np.expand_dims(X_train,2)\n",
    "print('Shape of X_train: ',X_train.shape)"
   ]
  },
  {
   "cell_type": "code",
   "execution_count": null,
   "metadata": {
    "id": "97cLP8G7c4n0"
   },
   "outputs": [],
   "source": [
    "import torch\n",
    "import torch.nn as nn\n",
    "# BATCH FIRST TimeDistributed layer\n",
    "class TimeDistributed(nn.Module):\n",
    "    def __init__(self, module):\n",
    "        super(TimeDistributed, self).__init__()\n",
    "        self.module = module\n",
    "\n",
    "    def forward(self, x):\n",
    "\n",
    "        if len(x.size()) <= 2:\n",
    "            return self.module(x)\n",
    "        # squash samples and timesteps into a single axis\n",
    "        elif len(x.size()) == 3: # (samples, timesteps, inp1)\n",
    "            x_reshape = x.contiguous().view(-1, x.size(2))  # (samples * timesteps, inp1)\n",
    "        elif len(x.size()) == 4: # (samples,timesteps,inp1,inp2)\n",
    "            x_reshape = x.contiguous().view(-1, x.size(2), x.size(3)) # (samples*timesteps,inp1,inp2)\n",
    "        else: # (samples,timesteps,inp1,inp2,inp3)\n",
    "            x_reshape = x.contiguous().view(-1, x.size(2), x.size(3),x.size(4)) # (samples*timesteps,inp1,inp2,inp3)\n",
    "\n",
    "        y = self.module(x_reshape)\n",
    "\n",
    "        # we have to reshape Y\n",
    "        if len(x.size()) == 3:\n",
    "            y = y.contiguous().view(x.size(0), -1, y.size(1))  # (samples, timesteps, out1)\n",
    "        elif len(x.size()) == 4:\n",
    "            y = y.contiguous().view(x.size(0), -1, y.size(1), y.size(2)) # (samples, timesteps, out1,out2)\n",
    "        else:\n",
    "            y = y.contiguous().view(x.size(0), -1, y.size(1), y.size(2),y.size(3)) # (samples, timesteps, out1,out2, out3)\n",
    "        return y"
   ]
  },
  {
   "cell_type": "code",
   "execution_count": null,
   "metadata": {
    "id": "R8rWIxVxcobT"
   },
   "outputs": [],
   "source": [
    "class HybridModel(nn.Module):\n",
    "    def __init__(self,num_emotions):\n",
    "        super().__init__()\n",
    "        # conv block\n",
    "        self.conv2Dblock = nn.Sequential(\n",
    "            # 1. conv block\n",
    "            TimeDistributed(nn.Conv2d(in_channels=1,\n",
    "                                   out_channels=16,\n",
    "                                   kernel_size=3,\n",
    "                                   stride=1,\n",
    "                                   padding=1\n",
    "                                  )),\n",
    "            TimeDistributed(nn.BatchNorm2d(16)),\n",
    "            TimeDistributed(nn.ReLU()),\n",
    "            TimeDistributed(nn.MaxPool2d(kernel_size=2, stride=2)),\n",
    "            TimeDistributed(nn.Dropout(p=0.4)),\n",
    "            # 2. conv block\n",
    "            TimeDistributed(nn.Conv2d(in_channels=16,\n",
    "                                   out_channels=32,\n",
    "                                   kernel_size=3,\n",
    "                                   stride=1,\n",
    "                                   padding=1\n",
    "                                  )),\n",
    "            TimeDistributed(nn.BatchNorm2d(32)),\n",
    "            TimeDistributed(nn.ReLU()),\n",
    "            TimeDistributed(nn.MaxPool2d(kernel_size=4, stride=4)),\n",
    "            TimeDistributed(nn.Dropout(p=0.4)),\n",
    "            # 3. conv block\n",
    "            TimeDistributed(nn.Conv2d(in_channels=32,\n",
    "                                   out_channels=64,\n",
    "                                   kernel_size=3,\n",
    "                                   stride=1,\n",
    "                                   padding=1\n",
    "                                  )),\n",
    "            TimeDistributed(nn.BatchNorm2d(64)),\n",
    "            TimeDistributed(nn.ReLU()),\n",
    "            TimeDistributed(nn.MaxPool2d(kernel_size=4, stride=4)),\n",
    "            TimeDistributed(nn.Dropout(p=0.4)),\n",
    "            # 4. conv block\n",
    "            TimeDistributed(nn.Conv2d(in_channels=64,\n",
    "                                   out_channels=128,\n",
    "                                   kernel_size=3,\n",
    "                                   stride=1,\n",
    "                                   padding=1\n",
    "                                  )),\n",
    "            TimeDistributed(nn.BatchNorm2d(128)),\n",
    "            TimeDistributed(nn.ReLU()),\n",
    "            TimeDistributed(nn.MaxPool2d(kernel_size=4, stride=4)),\n",
    "            TimeDistributed(nn.Dropout(p=0.4))\n",
    "        )\n",
    "        # LSTM block\n",
    "        hidden_size = 64\n",
    "        self.lstm = nn.LSTM(input_size=128,hidden_size=hidden_size,bidirectional=False, batch_first=True)\n",
    "        self.dropout_lstm = nn.Dropout(p=0.3)\n",
    "        # Linear softmax layer\n",
    "        self.out_linear = nn.Linear(hidden_size,num_emotions)\n",
    "    def forward(self,x):\n",
    "        conv_embedding = self.conv2Dblock(x)\n",
    "        conv_embedding = torch.flatten(conv_embedding, start_dim=2) # do not flatten batch dimension and time\n",
    "        lstm_embedding, (h,c) = self.lstm(conv_embedding)\n",
    "        lstm_embedding = self.dropout_lstm(lstm_embedding)\n",
    "        # lstm_embedding (batch, time, hidden_size)\n",
    "        lstm_output = lstm_embedding[:,-1,:]\n",
    "        output_logits = self.out_linear(lstm_output)\n",
    "        output_softmax = nn.functional.softmax(output_logits,dim=1)\n",
    "        return output_logits, output_softmax\n"
   ]
  },
  {
   "cell_type": "code",
   "execution_count": null,
   "metadata": {
    "colab": {
     "base_uri": "https://localhost:8080/"
    },
    "id": "TyPZPh7gcngB",
    "outputId": "2827423a-76cc-4a09-cd25-f80725007a6d"
   },
   "outputs": [
    {
     "data": {
      "text/plain": [
       "<All keys matched successfully>"
      ]
     },
     "execution_count": 10,
     "metadata": {},
     "output_type": "execute_result"
    }
   ],
   "source": [
    "EMOTIONS = {1:'neutral', 2:'calm', 3:'happy', 4:'sad', 5:'angry', 6:'fear', 7:'disgust', 0:'surprise'}\n",
    "model = HybridModel(len(EMOTIONS))\n",
    "model.load_state_dict(torch.load(\"/content/cnn_lstm_model.pt\", map_location=torch.device('cpu')))"
   ]
  },
  {
   "cell_type": "code",
   "execution_count": null,
   "metadata": {
    "colab": {
     "base_uri": "https://localhost:8080/"
    },
    "id": "tc4VrzD9SuBU",
    "outputId": "54133439-f5c2-45a9-9c12-c64907624b50"
   },
   "outputs": [
    {
     "name": "stdout",
     "output_type": "stream",
     "text": [
      "(1, 7, 1, 128, 128)\n"
     ]
    }
   ],
   "source": [
    "from sklearn.preprocessing import StandardScaler\n",
    "scaler = StandardScaler()\n",
    "print(X_train.shape)\n",
    "b,t,c,h,w = X_train.shape\n",
    "X_train = np.reshape(X_train, newshape=(b,-1))\n",
    "X_train = scaler.fit_transform(X_train)\n",
    "X_train = np.reshape(X_train, newshape=(b,t,c,h,w))\n",
    "X_tensor = torch.tensor(X_train).float()"
   ]
  },
  {
   "cell_type": "code",
   "execution_count": null,
   "metadata": {
    "id": "O44rmtAaWELs"
   },
   "outputs": [],
   "source": [
    "y = model(X_tensor)"
   ]
  },
  {
   "cell_type": "code",
   "execution_count": null,
   "metadata": {
    "colab": {
     "base_uri": "https://localhost:8080/"
    },
    "id": "Hncp3CrcW9Wp",
    "outputId": "d1a1c388-3795-4a97-cfd9-6da1514d9c36"
   },
   "outputs": [
    {
     "data": {
      "text/plain": [
       "(tensor([[ 0.9732,  0.4075, -3.0645, -1.7094, -0.8553,  4.9871,  0.5466, -1.2459]],\n",
       "        grad_fn=<AddmmBackward0>),\n",
       " tensor([[1.7260e-02, 9.8029e-03, 3.0444e-04, 1.1803e-03, 2.7728e-03, 9.5554e-01,\n",
       "          1.1266e-02, 1.8763e-03]], grad_fn=<SoftmaxBackward0>))"
      ]
     },
     "execution_count": 13,
     "metadata": {},
     "output_type": "execute_result"
    }
   ],
   "source": [
    "y"
   ]
  },
  {
   "cell_type": "code",
   "execution_count": null,
   "metadata": {
    "id": "-GhN3ZdoovW4"
   },
   "outputs": [],
   "source": [
    "y = y[1].detach()"
   ]
  },
  {
   "cell_type": "code",
   "execution_count": null,
   "metadata": {
    "colab": {
     "base_uri": "https://localhost:8080/"
    },
    "id": "_lvvqqMLwNEl",
    "outputId": "a6408201-093b-4361-a1c6-0c55ba11e525"
   },
   "outputs": [
    {
     "data": {
      "text/plain": [
       "tensor([[1.7260e-02, 9.8029e-03, 3.0444e-04, 1.1803e-03, 2.7728e-03, 9.5554e-01,\n",
       "         1.1266e-02, 1.8763e-03]])"
      ]
     },
     "execution_count": 15,
     "metadata": {},
     "output_type": "execute_result"
    }
   ],
   "source": [
    "y"
   ]
  },
  {
   "cell_type": "code",
   "execution_count": null,
   "metadata": {
    "id": "zfjF_wvMwarU"
   },
   "outputs": [],
   "source": [
    "pred = torch.argmax(y).tolist()"
   ]
  },
  {
   "cell_type": "code",
   "execution_count": null,
   "metadata": {
    "colab": {
     "base_uri": "https://localhost:8080/",
     "height": 35
    },
    "id": "IOTHHkCnw7sL",
    "outputId": "9504bd2b-adfa-4006-a48e-ee6bec8ed88c"
   },
   "outputs": [
    {
     "data": {
      "application/vnd.google.colaboratory.intrinsic+json": {
       "type": "string"
      },
      "text/plain": [
       "'angry'"
      ]
     },
     "execution_count": 19,
     "metadata": {},
     "output_type": "execute_result"
    }
   ],
   "source": [
    "EMOTIONS[pred]"
   ]
  },
  {
   "cell_type": "code",
   "execution_count": null,
   "metadata": {
    "id": "9BhoWLwx0KCp"
   },
   "outputs": [],
   "source": []
  }
 ],
 "metadata": {
  "colab": {
   "provenance": []
  },
  "kernelspec": {
   "display_name": "Python 3 (ipykernel)",
   "language": "python",
   "name": "python3"
  },
  "language_info": {
   "codemirror_mode": {
    "name": "ipython",
    "version": 3
   },
   "file_extension": ".py",
   "mimetype": "text/x-python",
   "name": "python",
   "nbconvert_exporter": "python",
   "pygments_lexer": "ipython3",
   "version": "3.11.5"
  }
 },
 "nbformat": 4,
 "nbformat_minor": 1
}
